{
 "cells": [
  {
   "cell_type": "markdown",
   "id": "940a8104-9467-4919-9f0c-803088a42d4f",
   "metadata": {},
   "source": [
    "Hello x"
   ]
  },
  {
   "cell_type": "markdown",
   "id": "137668b3-5ace-4f59-a95a-6ce8a4ae4f85",
   "metadata": {},
   "source": [
    "Columns to use: 3,4,9,10,12,13,17,18,58"
   ]
  },
  {
   "cell_type": "code",
   "execution_count": null,
   "id": "f0a569e2-3e5f-47f6-842a-aef8703b3111",
   "metadata": {},
   "outputs": [],
   "source": []
  }
 ],
 "metadata": {
  "kernelspec": {
   "display_name": "R",
   "language": "R",
   "name": "ir"
  },
  "language_info": {
   "codemirror_mode": "r",
   "file_extension": ".r",
   "mimetype": "text/x-r-source",
   "name": "R",
   "pygments_lexer": "r",
   "version": "4.1.3"
  }
 },
 "nbformat": 4,
 "nbformat_minor": 5
}
