{
 "cells": [
  {
   "cell_type": "markdown",
   "id": "940a8104-9467-4919-9f0c-803088a42d4f",
   "metadata": {},
   "source": [
    "# DSCI 100 Group 11 Project Proposal "
   ]
  },
  {
   "cell_type": "markdown",
   "id": "137668b3-5ace-4f59-a95a-6ce8a4ae4f85",
   "metadata": {},
   "source": [
    "Columns to use: 3,4,9,10,12,13,17,18,58"
   ]
  },
  {
   "cell_type": "markdown",
   "id": "db32254e-2eca-4f66-bda6-45a4a52ac29e",
   "metadata": {},
   "source": [
    "# 1. Introduction\n",
    "\n",
    "Heart disease is a common cause of death between all groups of people in the United States. Both genetic and environmental circumstances can contribute to the possibility of developing the condition. \n",
    "\n",
    "Multiple risk factors affect the likelihood of heart disease such as age, blood pressure, cholesterol. Older people are more likely to be diagnosed with heart disease (Rogers et al., 2019). According to the CDC, high cholesterol levels lead to plaque formation in blood vessels which makes them less flexible and narrower. Leading to the inability of blood to circulate around the body, irregular heart beats and ultimately, death. Furthermore, high blood pressure causes arteries to lose their elasticity which in turn leads to lower blood circulation to the heart.\n",
    "\n",
    "Using the Heart Disease dataset provided to us from the UCI Machine Learning Repository, we will use 3 different factors to see whether or not each data point can be classified as <50% diameter narrowing, which means no risk of heart diseases, or >50% diameter narrowing, which would indicate a severe risk of heart disease. \n",
    "\n",
    "Through comparisons, these data points would assist in anticipating a prognosis of different risk levels for a patient who could provide the data of the 3 aspects we observed. \n"
   ]
  },
  {
   "cell_type": "markdown",
   "id": "c08cf8bc-64ac-4a25-a42c-b1d4c611693b",
   "metadata": {},
   "source": [
    "# 2. Preliminary Data Analysis"
   ]
  },
  {
   "cell_type": "markdown",
   "id": "81250b8c-a147-420f-851d-8936467fc401",
   "metadata": {
    "jp-MarkdownHeadingCollapsed": true,
    "tags": []
   },
   "source": [
    "# 3. Methods\n",
    "\n",
    "Within the data set, we will use 4 of the variables provided. They are as follows: age, blood pressure, cholesterol,  and diagnosis of heart disease. We will then plot these on graphs and colour them based on the two classes (<50% diameter narrowing or >50% diameter narrowing). The two classes will be categorized within the data by having the number 0, which would mean the absence of heart disease and any other number, which would signify the presence of the disease. Then, when we receive the new data point, we will plot it against the data already present and evaluate the risk of heart disease according to the closest data point. \n",
    "\n",
    "To help illustrate our observations, we will use a scatterplot. In order to ensure that what we are visualizing is clear, we will use markdown cells to describe and clarify.\n"
   ]
  },
  {
   "cell_type": "markdown",
   "id": "c38a0dc0-4402-49b6-9e9f-163c666eca8f",
   "metadata": {},
   "source": [
    "# 4. Expected Outcomes and Significance \n",
    "We expect to find that with more history of disease, as well as unhealthier life choices, people will be at much higher risk of heart disease than those with the opposite. \n",
    "\n",
    "Using these findings, we can encourage people to maintain a healthy lifestyle to preemptively prevent cardiovascular disease. \n",
    "\n",
    "In the future, the question that could arise is the proportion to which the genetics and environmental factors have an effect on the probability of getting the disease. \n"
   ]
  },
  {
   "cell_type": "markdown",
   "id": "1d65ce8a-e21d-4abd-9103-51a64d376084",
   "metadata": {},
   "source": [
    "# 5. Citations\n",
    "\n",
    "- Centers for Disease Control and Prevention. (2022, September 8). Heart disease and stroke. Centers for Disease Control and Prevention. Retrieved March 2, 2023, from https://www.cdc.gov/chronicdisease/resources/publications/factsheets/heart-disease-stroke.htm \n",
    "- Centers for Disease Control and Prevention. (2021, May 18). High blood pressure symptoms and causes. Centers for Disease Control and Prevention. Retrieved March 2, 2023, from https://www.cdc.gov/bloodpressure/about.htm#:~:text=High%20blood%20pressure%20can%20damage%20your%20arteries%20by%20making%20them,Chest%20pain%2C%20also%20called%20angina "
   ]
  }
 ],
 "metadata": {
  "kernelspec": {
   "display_name": "R",
   "language": "R",
   "name": "ir"
  },
  "language_info": {
   "codemirror_mode": "r",
   "file_extension": ".r",
   "mimetype": "text/x-r-source",
   "name": "R",
   "pygments_lexer": "r",
   "version": "4.1.3"
  }
 },
 "nbformat": 4,
 "nbformat_minor": 5
}
