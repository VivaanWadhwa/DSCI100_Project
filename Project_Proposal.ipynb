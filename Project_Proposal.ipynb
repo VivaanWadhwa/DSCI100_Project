{
 "cells": [
  {
   "cell_type": "markdown",
   "id": "940a8104-9467-4919-9f0c-803088a42d4f",
   "metadata": {},
   "source": [
    "Hello x"
   ]
  },
  {
   "cell_type": "code",
   "execution_count": null,
   "id": "049d727e-81c8-4a6c-bed7-dbfc8d33f3a9",
   "metadata": {},
   "outputs": [],
   "source": []
  }
 ],
 "metadata": {
  "kernelspec": {
   "display_name": "R",
   "language": "R",
   "name": "ir"
  },
  "language_info": {
   "codemirror_mode": "r",
   "file_extension": ".r",
   "mimetype": "text/x-r-source",
   "name": "R",
   "pygments_lexer": "r",
   "version": "4.1.3"
  }
 },
 "nbformat": 4,
 "nbformat_minor": 5
}
